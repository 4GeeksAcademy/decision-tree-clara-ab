{
    "cells": [
        {
            "cell_type": "markdown",
            "metadata": {},
            "source": [
                "# Proyecto Decision Trees"
            ]
        },
        {
            "cell_type": "code",
            "execution_count": 27,
            "metadata": {},
            "outputs": [],
            "source": [
                "# Librería para la declaración y uso de Data Frames:\n",
                "import pandas as pd\n",
                "\n",
                "# Librería para generar un modelo de Regresión Lineal: \n",
                "import statsmodels.api as sm\n",
                "\n",
                "# Librería para realizar operaciones matemáticas: \n",
                "import numpy as np\n",
                "\n",
                "# Librería para poder realizar la partición del conjunto de datos:\n",
                "from sklearn.model_selection import train_test_split\n",
                "\n",
                "# Librería para generar un modelo XGBoost:\n",
                "import xgboost as xgb\n",
                "\n",
                "# Librería para calcular el VIF: \n",
                "from statsmodels.stats.outliers_influence import variance_inflation_factor\n",
                "\n",
                "# Librería para visualizar datos estadísticos: \n",
                "import seaborn as sns"
            ]
        },
        {
            "cell_type": "markdown",
            "metadata": {},
            "source": [
                "## Paso 1 - Lectura de Datos:"
            ]
        },
        {
            "cell_type": "markdown",
            "metadata": {},
            "source": [
                "En primer lugar, es necesario **leer y guardar la información** en una variable para poder empezar a trabajar con ella.\n",
                "\n",
                "Para ello, se ha guaradado el archivo con todos los datos en la ruta: */workspaces/decision-tree-clara-ab/data/raw/diabetes.csv* y se ha cargado en un Data Frame:"
            ]
        },
        {
            "cell_type": "code",
            "execution_count": 28,
            "metadata": {},
            "outputs": [
                {
                    "data": {
                        "text/html": [
                            "<div>\n",
                            "<style scoped>\n",
                            "    .dataframe tbody tr th:only-of-type {\n",
                            "        vertical-align: middle;\n",
                            "    }\n",
                            "\n",
                            "    .dataframe tbody tr th {\n",
                            "        vertical-align: top;\n",
                            "    }\n",
                            "\n",
                            "    .dataframe thead th {\n",
                            "        text-align: right;\n",
                            "    }\n",
                            "</style>\n",
                            "<table border=\"1\" class=\"dataframe\">\n",
                            "  <thead>\n",
                            "    <tr style=\"text-align: right;\">\n",
                            "      <th></th>\n",
                            "      <th>Pregnancies</th>\n",
                            "      <th>Glucose</th>\n",
                            "      <th>BloodPressure</th>\n",
                            "      <th>SkinThickness</th>\n",
                            "      <th>Insulin</th>\n",
                            "      <th>BMI</th>\n",
                            "      <th>DiabetesPedigreeFunction</th>\n",
                            "      <th>Age</th>\n",
                            "      <th>Outcome</th>\n",
                            "    </tr>\n",
                            "  </thead>\n",
                            "  <tbody>\n",
                            "    <tr>\n",
                            "      <th>0</th>\n",
                            "      <td>6</td>\n",
                            "      <td>148</td>\n",
                            "      <td>72</td>\n",
                            "      <td>35</td>\n",
                            "      <td>0</td>\n",
                            "      <td>33.6</td>\n",
                            "      <td>0.627</td>\n",
                            "      <td>50</td>\n",
                            "      <td>1</td>\n",
                            "    </tr>\n",
                            "    <tr>\n",
                            "      <th>1</th>\n",
                            "      <td>1</td>\n",
                            "      <td>85</td>\n",
                            "      <td>66</td>\n",
                            "      <td>29</td>\n",
                            "      <td>0</td>\n",
                            "      <td>26.6</td>\n",
                            "      <td>0.351</td>\n",
                            "      <td>31</td>\n",
                            "      <td>0</td>\n",
                            "    </tr>\n",
                            "    <tr>\n",
                            "      <th>2</th>\n",
                            "      <td>8</td>\n",
                            "      <td>183</td>\n",
                            "      <td>64</td>\n",
                            "      <td>0</td>\n",
                            "      <td>0</td>\n",
                            "      <td>23.3</td>\n",
                            "      <td>0.672</td>\n",
                            "      <td>32</td>\n",
                            "      <td>1</td>\n",
                            "    </tr>\n",
                            "    <tr>\n",
                            "      <th>3</th>\n",
                            "      <td>1</td>\n",
                            "      <td>89</td>\n",
                            "      <td>66</td>\n",
                            "      <td>23</td>\n",
                            "      <td>94</td>\n",
                            "      <td>28.1</td>\n",
                            "      <td>0.167</td>\n",
                            "      <td>21</td>\n",
                            "      <td>0</td>\n",
                            "    </tr>\n",
                            "    <tr>\n",
                            "      <th>4</th>\n",
                            "      <td>0</td>\n",
                            "      <td>137</td>\n",
                            "      <td>40</td>\n",
                            "      <td>35</td>\n",
                            "      <td>168</td>\n",
                            "      <td>43.1</td>\n",
                            "      <td>2.288</td>\n",
                            "      <td>33</td>\n",
                            "      <td>1</td>\n",
                            "    </tr>\n",
                            "  </tbody>\n",
                            "</table>\n",
                            "</div>"
                        ],
                        "text/plain": [
                            "   Pregnancies  Glucose  BloodPressure  SkinThickness  Insulin   BMI  \\\n",
                            "0            6      148             72             35        0  33.6   \n",
                            "1            1       85             66             29        0  26.6   \n",
                            "2            8      183             64              0        0  23.3   \n",
                            "3            1       89             66             23       94  28.1   \n",
                            "4            0      137             40             35      168  43.1   \n",
                            "\n",
                            "   DiabetesPedigreeFunction  Age  Outcome  \n",
                            "0                     0.627   50        1  \n",
                            "1                     0.351   31        0  \n",
                            "2                     0.672   32        1  \n",
                            "3                     0.167   21        0  \n",
                            "4                     2.288   33        1  "
                        ]
                    },
                    "execution_count": 28,
                    "metadata": {},
                    "output_type": "execute_result"
                }
            ],
            "source": [
                "# Lectura del CSV con los datos, dada la ruta donde se guarda el archivo:\n",
                "df = pd.read_csv ('/workspaces/decision-tree-clara-ab/data/raw/diabetes.csv');\n",
                "\n",
                "# Configuración de pandas para mostrar todas las columnas del DataFrame sin truncarlas al visualizarlo\n",
                "pd.set_option('display.max_columns', None);\n",
                "\n",
                "# Se muestran las 5 primeras filas del Data Frame\n",
                "df.head()"
            ]
        },
        {
            "cell_type": "markdown",
            "metadata": {},
            "source": [
                "Una vez se ha cargado correctamente la información en el Data Frame es interesante evaluar la **cantidad de información que se tiene**. Para ello, se recurre al atributo `.shape` del Data Frame:"
            ]
        },
        {
            "cell_type": "code",
            "execution_count": 29,
            "metadata": {},
            "outputs": [
                {
                    "name": "stdout",
                    "output_type": "stream",
                    "text": [
                        " El conjunto de datos cuenta con información de 768 pacientes con total de 9 características sobre ellos\n"
                    ]
                }
            ],
            "source": [
                "# Se utiliza el atributo shape del Data Frame para conocer cuánta información está cargada:\n",
                "print (f\" El conjunto de datos cuenta con información de {df.shape[0]} pacientes con total de {df.shape[1]} características sobre ellos\");"
            ]
        },
        {
            "cell_type": "markdown",
            "metadata": {},
            "source": [
                "## Paso 2 - Análisis Exploratorio de Datos:"
            ]
        },
        {
            "cell_type": "markdown",
            "metadata": {},
            "source": [
                "Antes de realizar un estudio del modelo tipo **Decision Trees** , es fundamental llevar a acabo un análisis de los datos **para poder identificar** patrones, detectar valores atípicos y evaluar la distribución de las variables para comprender la relación entre ellas.\n",
                "\n",
                "Por este motivo, se van a realizar distintos pasos cuyo objetivo final es **preparar el conjunto de datos** para poder trabajar con ellos. Este EDA no se explicará tan en detalle como se hizo para el proyecto dedicado únicamente a ello pero se recomienda recurrir a él para explicaciones más detalladas:"
            ]
        },
        {
            "cell_type": "markdown",
            "metadata": {},
            "source": [
                "### Paso 2.1 - Análisis de Constantes y Duplicados:"
            ]
        },
        {
            "cell_type": "markdown",
            "metadata": {},
            "source": [
                "Uno de los puntos críticos a la hora de realizar un análisis, es la existencia de **variables / características comunes** a todos los pacientes, dado que sería **información redundante** y no aportaría valor al estudio, es decir, el análisis sería el mismo aunque no estuviesen como variables y, por lo tanto, se podría prescindir de ellas."
            ]
        },
        {
            "cell_type": "code",
            "execution_count": 30,
            "metadata": {},
            "outputs": [
                {
                    "name": "stdout",
                    "output_type": "stream",
                    "text": [
                        " Hay un total de 0 columnas en el Data Frame con un valor constante para todos los pacientes\n",
                        " \n",
                        "Para cada columna del Data Frame, se muestran cuántos valores distintos presentan:\n"
                    ]
                },
                {
                    "data": {
                        "text/plain": [
                            "Pregnancies                  17\n",
                            "Glucose                     136\n",
                            "BloodPressure                47\n",
                            "SkinThickness                51\n",
                            "Insulin                     186\n",
                            "BMI                         248\n",
                            "DiabetesPedigreeFunction    517\n",
                            "Age                          52\n",
                            "Outcome                       2\n",
                            "dtype: int64"
                        ]
                    },
                    "execution_count": 30,
                    "metadata": {},
                    "output_type": "execute_result"
                }
            ],
            "source": [
                "# Se utiliza el método .nunique() para saber la cantidad de columnas con constantes en el Data Frame:\n",
                "print(f\" Hay un total de {(lambda df: (df.nunique() == 1).sum())(df)} columnas en el Data Frame con un valor constante para todos los pacientes\");\n",
                "\n",
                "# Se imprime el conteo de valores distintos en cada columna:\n",
                "print (f\" \\nPara cada columna del Data Frame, se muestran cuántos valores distintos presentan:\");\n",
                "df.nunique()"
            ]
        },
        {
            "cell_type": "markdown",
            "metadata": {},
            "source": [
                "A partir del resultado obtenido, se puede observar que **no hay ninguna constante** en los datos cargados, por lo tanto, no hay que eliminar ninguna columna, de momento.\n",
                "\n",
                "Otro factor determinante a la hora de realizar una limpieza de los datos es detectar si hay **datos repetidos**, aplicado a este caso, si hay **pacientes duplicados**."
            ]
        },
        {
            "cell_type": "code",
            "execution_count": 31,
            "metadata": {},
            "outputs": [
                {
                    "name": "stdout",
                    "output_type": "stream",
                    "text": [
                        " Hay un total de 0 pacientes duplicados.\n"
                    ]
                }
            ],
            "source": [
                "# Se utiliza el método .duplicated() para identificar los clientes repetidos dentro del DataFrame:\n",
                "print(f\" Hay un total de {df.duplicated().sum()} pacientes duplicados.\");"
            ]
        },
        {
            "cell_type": "markdown",
            "metadata": {},
            "source": [
                "Como se puede ver, **no se ha detectado un cliente duplicado** en el conjunto de datos por lo que se puede seguir con el análisis exploratorio de datos. "
            ]
        },
        {
            "cell_type": "markdown",
            "metadata": {},
            "source": [
                "## Paso 2.2 - Análisis Estadístico:"
            ]
        },
        {
            "cell_type": "markdown",
            "metadata": {},
            "source": [
                "Una vez ya se ha realizado un estudio básico para realizar una primera limpieza de datos, a partir del análisis de constantes y duplicados, se puede pasar a **observar estadísticamente la información** y decidir qué datos son poco relevantes.\n",
                "\n",
                "Para ello, en primer lugar, se va a recurrir al método `.describe()`  para tener un **resumen estadístico** de todos los datos, tanto los categóricos como los numéricos.\n",
                "\n",
                "En este resumen, los puntos más interesantes son, por un lado, los **mínimos y los máximos** en las variables numéricas y el **top value y su frecuencia** para las variables categóricas."
            ]
        },
        {
            "cell_type": "code",
            "execution_count": 32,
            "metadata": {},
            "outputs": [
                {
                    "data": {
                        "text/html": [
                            "<div>\n",
                            "<style scoped>\n",
                            "    .dataframe tbody tr th:only-of-type {\n",
                            "        vertical-align: middle;\n",
                            "    }\n",
                            "\n",
                            "    .dataframe tbody tr th {\n",
                            "        vertical-align: top;\n",
                            "    }\n",
                            "\n",
                            "    .dataframe thead th {\n",
                            "        text-align: right;\n",
                            "    }\n",
                            "</style>\n",
                            "<table border=\"1\" class=\"dataframe\">\n",
                            "  <thead>\n",
                            "    <tr style=\"text-align: right;\">\n",
                            "      <th></th>\n",
                            "      <th>count</th>\n",
                            "      <th>mean</th>\n",
                            "      <th>std</th>\n",
                            "      <th>min</th>\n",
                            "      <th>25%</th>\n",
                            "      <th>50%</th>\n",
                            "      <th>75%</th>\n",
                            "      <th>max</th>\n",
                            "    </tr>\n",
                            "  </thead>\n",
                            "  <tbody>\n",
                            "    <tr>\n",
                            "      <th>Pregnancies</th>\n",
                            "      <td>768.0</td>\n",
                            "      <td>3.845052</td>\n",
                            "      <td>3.369578</td>\n",
                            "      <td>0.000</td>\n",
                            "      <td>1.00000</td>\n",
                            "      <td>3.0000</td>\n",
                            "      <td>6.00000</td>\n",
                            "      <td>17.00</td>\n",
                            "    </tr>\n",
                            "    <tr>\n",
                            "      <th>Glucose</th>\n",
                            "      <td>768.0</td>\n",
                            "      <td>120.894531</td>\n",
                            "      <td>31.972618</td>\n",
                            "      <td>0.000</td>\n",
                            "      <td>99.00000</td>\n",
                            "      <td>117.0000</td>\n",
                            "      <td>140.25000</td>\n",
                            "      <td>199.00</td>\n",
                            "    </tr>\n",
                            "    <tr>\n",
                            "      <th>BloodPressure</th>\n",
                            "      <td>768.0</td>\n",
                            "      <td>69.105469</td>\n",
                            "      <td>19.355807</td>\n",
                            "      <td>0.000</td>\n",
                            "      <td>62.00000</td>\n",
                            "      <td>72.0000</td>\n",
                            "      <td>80.00000</td>\n",
                            "      <td>122.00</td>\n",
                            "    </tr>\n",
                            "    <tr>\n",
                            "      <th>SkinThickness</th>\n",
                            "      <td>768.0</td>\n",
                            "      <td>20.536458</td>\n",
                            "      <td>15.952218</td>\n",
                            "      <td>0.000</td>\n",
                            "      <td>0.00000</td>\n",
                            "      <td>23.0000</td>\n",
                            "      <td>32.00000</td>\n",
                            "      <td>99.00</td>\n",
                            "    </tr>\n",
                            "    <tr>\n",
                            "      <th>Insulin</th>\n",
                            "      <td>768.0</td>\n",
                            "      <td>79.799479</td>\n",
                            "      <td>115.244002</td>\n",
                            "      <td>0.000</td>\n",
                            "      <td>0.00000</td>\n",
                            "      <td>30.5000</td>\n",
                            "      <td>127.25000</td>\n",
                            "      <td>846.00</td>\n",
                            "    </tr>\n",
                            "    <tr>\n",
                            "      <th>BMI</th>\n",
                            "      <td>768.0</td>\n",
                            "      <td>31.992578</td>\n",
                            "      <td>7.884160</td>\n",
                            "      <td>0.000</td>\n",
                            "      <td>27.30000</td>\n",
                            "      <td>32.0000</td>\n",
                            "      <td>36.60000</td>\n",
                            "      <td>67.10</td>\n",
                            "    </tr>\n",
                            "    <tr>\n",
                            "      <th>DiabetesPedigreeFunction</th>\n",
                            "      <td>768.0</td>\n",
                            "      <td>0.471876</td>\n",
                            "      <td>0.331329</td>\n",
                            "      <td>0.078</td>\n",
                            "      <td>0.24375</td>\n",
                            "      <td>0.3725</td>\n",
                            "      <td>0.62625</td>\n",
                            "      <td>2.42</td>\n",
                            "    </tr>\n",
                            "    <tr>\n",
                            "      <th>Age</th>\n",
                            "      <td>768.0</td>\n",
                            "      <td>33.240885</td>\n",
                            "      <td>11.760232</td>\n",
                            "      <td>21.000</td>\n",
                            "      <td>24.00000</td>\n",
                            "      <td>29.0000</td>\n",
                            "      <td>41.00000</td>\n",
                            "      <td>81.00</td>\n",
                            "    </tr>\n",
                            "    <tr>\n",
                            "      <th>Outcome</th>\n",
                            "      <td>768.0</td>\n",
                            "      <td>0.348958</td>\n",
                            "      <td>0.476951</td>\n",
                            "      <td>0.000</td>\n",
                            "      <td>0.00000</td>\n",
                            "      <td>0.0000</td>\n",
                            "      <td>1.00000</td>\n",
                            "      <td>1.00</td>\n",
                            "    </tr>\n",
                            "  </tbody>\n",
                            "</table>\n",
                            "</div>"
                        ],
                        "text/plain": [
                            "                          count        mean         std     min       25%  \\\n",
                            "Pregnancies               768.0    3.845052    3.369578   0.000   1.00000   \n",
                            "Glucose                   768.0  120.894531   31.972618   0.000  99.00000   \n",
                            "BloodPressure             768.0   69.105469   19.355807   0.000  62.00000   \n",
                            "SkinThickness             768.0   20.536458   15.952218   0.000   0.00000   \n",
                            "Insulin                   768.0   79.799479  115.244002   0.000   0.00000   \n",
                            "BMI                       768.0   31.992578    7.884160   0.000  27.30000   \n",
                            "DiabetesPedigreeFunction  768.0    0.471876    0.331329   0.078   0.24375   \n",
                            "Age                       768.0   33.240885   11.760232  21.000  24.00000   \n",
                            "Outcome                   768.0    0.348958    0.476951   0.000   0.00000   \n",
                            "\n",
                            "                               50%        75%     max  \n",
                            "Pregnancies                 3.0000    6.00000   17.00  \n",
                            "Glucose                   117.0000  140.25000  199.00  \n",
                            "BloodPressure              72.0000   80.00000  122.00  \n",
                            "SkinThickness              23.0000   32.00000   99.00  \n",
                            "Insulin                    30.5000  127.25000  846.00  \n",
                            "BMI                        32.0000   36.60000   67.10  \n",
                            "DiabetesPedigreeFunction    0.3725    0.62625    2.42  \n",
                            "Age                        29.0000   41.00000   81.00  \n",
                            "Outcome                     0.0000    1.00000    1.00  "
                        ]
                    },
                    "execution_count": 32,
                    "metadata": {},
                    "output_type": "execute_result"
                }
            ],
            "source": [
                "# Descripción estadística básica de todas las columnas del DataFrame:\n",
                "df.describe(include='all').T # Se traspone para ver de forma más clara los datos"
            ]
        },
        {
            "cell_type": "markdown",
            "metadata": {},
            "source": [
                "En este caso, interesaba principalmente **desechar pacientes cuya información aportada no fuese** *lógica*, por ejemplo, alguien que presentase una edad exageradamente alta.\n",
                "\n",
                "Sin embargo, no se ha encontrado ningún caso extremo, por lo que **no será necesario realizar una limpieza a partir de la información estadística de los datos**. Simplemente, cabe destacar el máximo en la variable *número de embarazos* que es un total de **17**. De momento no se va a desechar en tanto que, pese a ser un dato muy elevado, es posible. "
            ]
        },
        {
            "cell_type": "markdown",
            "metadata": {},
            "source": [
                "### Paso 2.3 - Análisis de Nulos: "
            ]
        },
        {
            "cell_type": "markdown",
            "metadata": {},
            "source": [
                "Uno de los problemas que es habitual encontrarse en el análisis de datos es **variables sin valor**, nulos.\n",
                "\n",
                "Es por ello que se deben tratar estos casos para o bien **eliminarlos** o bien **rellenarlos con un valor coherente** para cada uno.\n",
                "\n",
                "En primer lugar, para realizar el análisis, se va a obtener el **porcentaje de pacientes que presentan al menos un nulo** en alguna de las características."
            ]
        },
        {
            "cell_type": "code",
            "execution_count": 33,
            "metadata": {},
            "outputs": [
                {
                    "name": "stdout",
                    "output_type": "stream",
                    "text": [
                        " El 0.0 % de los pacientes presenta, al menos, un valor nulo en alguna de sus características descriptivas\n"
                    ]
                }
            ],
            "source": [
                "# Se comprueba el porcentaje de clientes que presentan al menos un valor nulo:\n",
                "print(f\" El {round(df.isnull().any(axis=1).mean()*100, 2)} % de los pacientes presenta, al menos, un valor nulo en alguna de sus características descriptivas\");"
            ]
        },
        {
            "cell_type": "markdown",
            "metadata": {},
            "source": [
                "Se comprueba que **no hay ningún valor faltante en nuestro conjunto de datos**, por lo que no se tiene por qué inferir información en ningún caso."
            ]
        },
        {
            "cell_type": "markdown",
            "metadata": {},
            "source": [
                "### Paso 2.4 - Análisis de Observaciones Influyentes:"
            ]
        },
        {
            "cell_type": "markdown",
            "metadata": {},
            "source": [
                "En este paso se va a proceder a realizar uno de los puntos clave en el Análisis Exploratorio de Datos, la Identificación de **Observaciones Influyentes**.\n",
                "\n",
                "Sin embargo, para poder realizar este paso, es necesario que todas las variables con las que se trabaja sean numéricas. Por este motivo, en primer lugar, se va a comprobar si hay alguna variable catégorica utilizando el método `.describe()` con el parámetro `include = 'object'`:"
            ]
        },
        {
            "cell_type": "code",
            "execution_count": 34,
            "metadata": {},
            "outputs": [
                {
                    "name": "stdout",
                    "output_type": "stream",
                    "text": [
                        "No hay variables categóricas en el conjunto de datos.\n"
                    ]
                }
            ],
            "source": [
                "# Se comprueba que si hay columnas categóricas:\n",
                "try:\n",
                "    # Se intenta obtener el resumen de las columnas categóricas\n",
                "    print(df.describe(include='object')).T;\n",
                "\n",
                "except Exception:\n",
                "    # Si hay un error, es porque no hay columnas categóricas:\n",
                "    print(\"No hay variables categóricas en el conjunto de datos.\");"
            ]
        },
        {
            "cell_type": "markdown",
            "metadata": {},
            "source": [
                "Una vez ya se comprueba que todas las características numéricas, se puede proceder a **identificar las observaciones influyentes**.\n",
                "\n",
                "Para ello, en primer lugar es necesario identificar cuál será, de ahora en adelante la **variable dependiente**, es decir, la variable a *predecir* y separar tanto esta como todas las relacionadas con ella.\n",
                "\n",
                "En este caso, la variable a predecir será `Outcome` , siendo una variable de clase (0 o 1):\n",
                "-  0 negativo en diabetes\n",
                "- 1 positivo en diabetes\n",
                "\n",
                "Teniendo en cuenta que en el conjunto de datos **no hay ninguna otra características relacionada directamente con esta**, las variables independientes serán todo el resto."
            ]
        },
        {
            "cell_type": "code",
            "execution_count": 35,
            "metadata": {},
            "outputs": [],
            "source": [
                "# Se separa la variable dependiente: \n",
                "y = df ['Outcome'];\n",
                "\n",
                "# Se guardan las variables independientes en una matrix, eliminando las características relacionadas con la dependiente:\n",
                "X = df.drop(['Outcome'], axis = 1);"
            ]
        },
        {
            "cell_type": "markdown",
            "metadata": {},
            "source": [
                "Ahora que se tienen los datos separados, se puede proceder a la identificación de observaciones influyentes a partir del estudio de la **Distancia de Cook**.\n",
                "\n",
                "Este parámetro ayuda a evaluar la **influencia de una observación mediante los coeficientes de un modelo de regresión lineal**. Si la Distancia de Cook de una observación es alta, significa que dicho dato puede estar alterando de forma muy notable el ajuste del modelo."
            ]
        },
        {
            "cell_type": "code",
            "execution_count": 36,
            "metadata": {},
            "outputs": [],
            "source": [
                "# Se incluye el término de ordenada en el origen: \n",
                "X = sm.add_constant (X);\n",
                "\n",
                "# Se ajusta el modelo de Regresión Lineal Ordinaria: \n",
                "model_OLS = sm.OLS(y, X).fit();\n",
                "\n",
                "# Se hace un diagnóstico de influencia y se extrae la Distancia de Cook: \n",
                "cooks_distance = model_OLS.get_influence().cooks_distance;"
            ]
        },
        {
            "cell_type": "markdown",
            "metadata": {},
            "source": [
                "Hay una norma estándar que establece un **punto de corte para la Distancia de Cook**, a partir de la cual está aceptado que la información dentro de un conjunto de datos presente. Dicho límite es la **cuarta parte de la longitud total del DataFrame**:"
            ]
        },
        {
            "cell_type": "code",
            "execution_count": 37,
            "metadata": {},
            "outputs": [
                {
                    "name": "stdout",
                    "output_type": "stream",
                    "text": [
                        " Hay un total de 36 clientes que se encuentran por encima del punto de corte\n"
                    ]
                }
            ],
            "source": [
                "# Se define el Punto de Corte:\n",
                "cut_point = 4/len(df);\n",
                "\n",
                "# Se comprueba cuántas viviendas están por encima de ese punto de corte:\n",
                "print(f\" Hay un total de {len(np.where(cooks_distance[0]>cut_point)[0])} clientes que se encuentran por encima del punto de corte\");\n",
                "\n",
                "# Se eliminan las observaciones influyentes:\n",
                "df_clean = df.drop(np.where(cooks_distance[0] > cut_point)[0]);"
            ]
        },
        {
            "cell_type": "markdown",
            "metadata": {},
            "source": [
                "### Paso 2.5 - Análisis de Características Relevantes:"
            ]
        },
        {
            "cell_type": "markdown",
            "metadata": {},
            "source": [
                "Continuando con el proceso de preparación y compresión del conjunto de datos que implica un Análisis Exploratorio, se va a realizar una **Selección de Características**.\n",
                "\n",
                "Para ello, se va a utilizar un modelo de regresión basado en **XGBoost**, un algoritmo basado en árboles de decisión que utiliza boosting para mejorar la precisión. Por este motivo, el primer paso ha de ser separar el conjunto de datos teniendo una partición para entrenar al modelo (*train*) y otro para probarlo (*test*), de forma que se pueda evaluar sin inferir en el modelo su capacidad predictiva."
            ]
        },
        {
            "cell_type": "code",
            "execution_count": 38,
            "metadata": {},
            "outputs": [],
            "source": [
                "# Se separa la variable dependiente: \n",
                "y = df_clean ['Outcome'];\n",
                "\n",
                "# Se guardan las variables independientes en una matrix, eliminando las características relacionadas con la dependiente:\n",
                "X = df_clean.drop(['Outcome'], axis = 1);\n",
                "\n",
                "# Se realiza la partición, explicitando el tamaño del test set:\n",
                "X_train, X_test, y_train, y_test = train_test_split(X, y, test_size = 0.2, random_state = 42);\n",
                "\n",
                "# Se crea un modelo de regresión XGBoost y se entrena con los datos del 'train_set':\n",
                "xgb_model = xgb.XGBRegressor(objective = 'reg:squarederror', random_state = 42).fit(X_train, y_train);"
            ]
        },
        {
            "cell_type": "markdown",
            "metadata": {},
            "source": [
                "Una vez se tiene el modelo entrenado, se va a generar un DataFrame que contenga el **nombre cada característica y su importancia** en valor porcentual:"
            ]
        },
        {
            "cell_type": "code",
            "execution_count": 39,
            "metadata": {},
            "outputs": [
                {
                    "data": {
                        "text/html": [
                            "<div>\n",
                            "<style scoped>\n",
                            "    .dataframe tbody tr th:only-of-type {\n",
                            "        vertical-align: middle;\n",
                            "    }\n",
                            "\n",
                            "    .dataframe tbody tr th {\n",
                            "        vertical-align: top;\n",
                            "    }\n",
                            "\n",
                            "    .dataframe thead th {\n",
                            "        text-align: right;\n",
                            "    }\n",
                            "</style>\n",
                            "<table border=\"1\" class=\"dataframe\">\n",
                            "  <thead>\n",
                            "    <tr style=\"text-align: right;\">\n",
                            "      <th></th>\n",
                            "      <th>Feature</th>\n",
                            "      <th>Importance</th>\n",
                            "    </tr>\n",
                            "  </thead>\n",
                            "  <tbody>\n",
                            "    <tr>\n",
                            "      <th>1</th>\n",
                            "      <td>Glucose</td>\n",
                            "      <td>30.302036</td>\n",
                            "    </tr>\n",
                            "    <tr>\n",
                            "      <th>5</th>\n",
                            "      <td>BMI</td>\n",
                            "      <td>14.895809</td>\n",
                            "    </tr>\n",
                            "    <tr>\n",
                            "      <th>7</th>\n",
                            "      <td>Age</td>\n",
                            "      <td>12.740658</td>\n",
                            "    </tr>\n",
                            "    <tr>\n",
                            "      <th>6</th>\n",
                            "      <td>DiabetesPedigreeFunction</td>\n",
                            "      <td>10.019794</td>\n",
                            "    </tr>\n",
                            "    <tr>\n",
                            "      <th>4</th>\n",
                            "      <td>Insulin</td>\n",
                            "      <td>9.256279</td>\n",
                            "    </tr>\n",
                            "    <tr>\n",
                            "      <th>2</th>\n",
                            "      <td>BloodPressure</td>\n",
                            "      <td>8.854501</td>\n",
                            "    </tr>\n",
                            "    <tr>\n",
                            "      <th>3</th>\n",
                            "      <td>SkinThickness</td>\n",
                            "      <td>8.391212</td>\n",
                            "    </tr>\n",
                            "    <tr>\n",
                            "      <th>0</th>\n",
                            "      <td>Pregnancies</td>\n",
                            "      <td>5.539701</td>\n",
                            "    </tr>\n",
                            "  </tbody>\n",
                            "</table>\n",
                            "</div>"
                        ],
                        "text/plain": [
                            "                    Feature  Importance\n",
                            "1                   Glucose   30.302036\n",
                            "5                       BMI   14.895809\n",
                            "7                       Age   12.740658\n",
                            "6  DiabetesPedigreeFunction   10.019794\n",
                            "4                   Insulin    9.256279\n",
                            "2             BloodPressure    8.854501\n",
                            "3             SkinThickness    8.391212\n",
                            "0               Pregnancies    5.539701"
                        ]
                    },
                    "execution_count": 39,
                    "metadata": {},
                    "output_type": "execute_result"
                }
            ],
            "source": [
                "# Se extrae la importancia de cada característica en porcentaje y se guarda en un Data Frame:\n",
                "df_imp = pd.DataFrame({'Feature':X_train.columns, 'Importance':xgb_model.feature_importances_*100});\n",
                "\n",
                "# Se ordena el Data Frame en orden de mayor a menor importancia:\n",
                "df_imp = df_imp.sort_values(by='Importance', ascending=False);\n",
                "\n",
                "# Se muestra el Data Frame de las características y su importancia: \n",
                "df_imp"
            ]
        },
        {
            "cell_type": "markdown",
            "metadata": {},
            "source": [
                "Como se puede ver, la **característica más importante** que determina la predicción sobre la **concentración de glucosa** en sangre. Sin embargo, **todas las variables parecen tener una relevancia significativa**, siendo la que menos un 5%. \n",
                "\n",
                "Por este motivo, se decide **NO desechar ninguna característica** y pasar al análisis de otros parámetros. "
            ]
        },
        {
            "cell_type": "markdown",
            "metadata": {},
            "source": [
                "### Paso 2.6 - Análisis del VIF:"
            ]
        },
        {
            "cell_type": "markdown",
            "metadata": {},
            "source": [
                "Para continuar con el Análisis Exploratorio de los Datos, se va proceder a utilizar una métrica para **detectar la colinealidad entre las variables independientes**, el factor de Inflación de Varianza (**VIF**), pudiendo así saber si una variable puede predecirse de manera lineal usando otras variables y **evitar redundancias** en el conjunto de datos."
            ]
        },
        {
            "cell_type": "code",
            "execution_count": 40,
            "metadata": {},
            "outputs": [
                {
                    "data": {
                        "text/plain": [
                            "Pregnancies                 4.623206\n",
                            "Glucose                     3.082400\n",
                            "BloodPressure               1.938725\n",
                            "SkinThickness               5.024259\n",
                            "Insulin                     3.936809\n",
                            "BMI                         3.217195\n",
                            "DiabetesPedigreeFunction    1.308176\n",
                            "Age                         6.110227\n",
                            "dtype: float64"
                        ]
                    },
                    "execution_count": 40,
                    "metadata": {},
                    "output_type": "execute_result"
                }
            ],
            "source": [
                "# Se calcula el VIF utilizando la función variance_inflation_factor de cada una de las características del conjunto de datos:\n",
                "vif = pd.Series([variance_inflation_factor(X_train.corr().values, i) for i in range(X_train.corr().shape[1])], index=X_train.columns);\n",
                "vif"
            ]
        },
        {
            "cell_type": "markdown",
            "metadata": {},
            "source": [
                "La forma correcta de interpretar un VIF es la siguiente:\n",
                "\n",
                "- **VIF** = 1 : No hay colinealidad \n",
                "\n",
                "- 1 < **VIF** < 5 : Colinealidad Mderada \n",
                "\n",
                "- **VIF** > 5 : Colinealidad Alta"
            ]
        },
        {
            "cell_type": "markdown",
            "metadata": {},
            "source": [
                "Por este motivo, siguiendo dicho criterio, se van a eliminar las características cuyo VIF sea mayor"
            ]
        }
    ],
    "metadata": {
        "kernelspec": {
            "display_name": "Python 3",
            "language": "python",
            "name": "python3"
        },
        "language_info": {
            "codemirror_mode": {
                "name": "ipython",
                "version": 3
            },
            "file_extension": ".py",
            "mimetype": "text/x-python",
            "name": "python",
            "nbconvert_exporter": "python",
            "pygments_lexer": "ipython3",
            "version": "3.10.12"
        },
        "orig_nbformat": 4
    },
    "nbformat": 4,
    "nbformat_minor": 2
}
